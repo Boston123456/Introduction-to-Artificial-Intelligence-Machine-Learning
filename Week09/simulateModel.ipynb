{
 "cells": [
  {
   "cell_type": "code",
   "execution_count": 2,
   "metadata": {
    "collapsed": true
   },
   "outputs": [],
   "source": [
    "import numpy as np\n",
    "import matplotlib.pyplot as plt\n",
    "%matplotlib inline  "
   ]
  },
  {
   "cell_type": "code",
   "execution_count": 5,
   "metadata": {
    "collapsed": false
   },
   "outputs": [],
   "source": [
    "def simulateModel(myu0, randa0, a0, b0, N):\n",
    "    trueTau = np.random.gamma(a0, b0, 1);\n",
    "    trueMyu = np.random.normal(myu0,1/(randa0*trueTau));\n",
    "    \n",
    "    for i in range(N):\n",
    "        X[i] = np.random.normal(trueMyu, 1/trueTau);\n",
    "\n",
    "    return [X, trueMyu, trueTau]"
   ]
  }
 ],
 "metadata": {
  "kernelspec": {
   "display_name": "Python 2",
   "language": "python",
   "name": "python2"
  },
  "language_info": {
   "codemirror_mode": {
    "name": "ipython",
    "version": 2
   },
   "file_extension": ".py",
   "mimetype": "text/x-python",
   "name": "python",
   "nbconvert_exporter": "python",
   "pygments_lexer": "ipython2",
   "version": "2.7.11"
  }
 },
 "nbformat": 4,
 "nbformat_minor": 0
}

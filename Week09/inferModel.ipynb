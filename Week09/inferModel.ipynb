{
 "cells": [
  {
   "cell_type": "code",
   "execution_count": 4,
   "metadata": {
    "collapsed": true
   },
   "outputs": [],
   "source": [
    "import numpy as np\n",
    "import matplotlib.pyplot as plt\n",
    "%matplotlib inline  "
   ]
  },
  {
   "cell_type": "code",
   "execution_count": 5,
   "metadata": {
    "collapsed": true
   },
   "outputs": [],
   "source": [
    "def inferModel(X, a0, b0, myu0, randa0, N):\n",
    "    optimizedA = a0 + (N + 1) / 2;\n",
    "    optimizedMyu = (randa0 * myu0 + N * np.mean(x)) / (randa0 + N);\n",
    "    optimizedRanda = 0.1;\n",
    "    \n",
    "    sumsqr = 0;\n",
    "    for i in range(N):\n",
    "        sumsqr = sumsqr + X[i]*X[i];\n",
    "    \n",
    "    for i in range(1000):\n",
    "        optimizedB = b0 + 1/2 * ((randa0 + N) * (1/optimizedRanda + optimizedMyu * optimizedMyu) - 2 * (randa0 * myu0 + np.sum(X)) * optimizedMyu + sumsqr + randa0 * myu0 * myu0);\n",
    "        optimizedRanda = (randa0 + N) * optimizedA / optimizedB;\n",
    "        \n",
    "    return [optimizedMyu, optimizedRanda, optimizedA, optimizedB]"
   ]
  }
 ],
 "metadata": {
  "kernelspec": {
   "display_name": "Python 2",
   "language": "python",
   "name": "python2"
  },
  "language_info": {
   "codemirror_mode": {
    "name": "ipython",
    "version": 2
   },
   "file_extension": ".py",
   "mimetype": "text/x-python",
   "name": "python",
   "nbconvert_exporter": "python",
   "pygments_lexer": "ipython2",
   "version": "2.7.11"
  }
 },
 "nbformat": 4,
 "nbformat_minor": 0
}

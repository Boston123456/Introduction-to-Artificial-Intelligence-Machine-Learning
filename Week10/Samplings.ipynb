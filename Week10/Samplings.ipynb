{
 "cells": [
  {
   "cell_type": "code",
   "execution_count": 1,
   "metadata": {
    "collapsed": true
   },
   "outputs": [],
   "source": [
    "import scipy.io as sio\n",
    "import numpy as np\n",
    "import matplotlib.pyplot as plt\n",
    "from scipy.stats import multivariate_normal\n",
    "\n",
    "%matplotlib inline  "
   ]
  },
  {
   "cell_type": "code",
   "execution_count": 3,
   "metadata": {
    "collapsed": false
   },
   "outputs": [],
   "source": [
    "pi_true = np.array([0.35, 0.45, 0.2])\n",
    "mu_true = np.array([-2,1,5])\n",
    "sigma_true = np.array([0.9, 0.3, .7])\n",
    "col = ['b', 'r', 'g']\n",
    "\n",
    "N = 10000\n",
    "v = np.zeros((np.size(pi_true), N))\n",
    "C = np.zeros(np.size(pi_true)).astype(int)\n",
    "obs = np.zeros(N)\n",
    "sampling = np.zeros(N)\n",
    "sampling2 = np.zeros(N)\n",
    "\n",
    "for i in range(N):\n",
    "    z = np.random.random_sample()\n",
    "    idx = 0\n",
    "    tempSum = 0\n",
    "    \n",
    "    for j in range(np.size(pi_true)):\n",
    "        if ((z > tempSum) & (z<=tempSum+pi_true[j])):\n",
    "            idx = j\n",
    "            break\n",
    "        else:\n",
    "            tempSum = tempSum + pi_true[j]\n",
    "    \n",
    "    v_temp = np.random.normal(mu_true[idx], sigma_true[idx], 1)\n",
    "    C[idx] = C[idx] + 1\n",
    "    v[idx, C[idx]] = v_temp\n",
    "    obs[i] = v_temp\n",
    "    sampling2[i] = np.random.normal(mu_true[idx], sigma_true[idx])"
   ]
  },
  {
   "cell_type": "code",
   "execution_count": 4,
   "metadata": {
    "collapsed": false
   },
   "outputs": [
    {
     "data": {
      "image/png": "[encoded data removed]",
      "text/plain": [
       "<matplotlib.figure.Figure at 0x13fda080>"
      ]
     },
     "metadata": {},
     "output_type": "display_data"
    }
   ],
   "source": [
    "plt.figure(1, figsize=(7,5))\n",
    "plt.hist(obs, bins=np.linspace(-10,10,(10-(-10))/0.1))\n",
    "plt.show()"
   ]
  },
  {
   "cell_type": "code",
   "execution_count": 6,
   "metadata": {
    "collapsed": false
   },
   "outputs": [],
   "source": [
    "cnt = 0\n",
    "discarded = 0\n",
    "obs = np.zeros(N)\n",
    "M = 100\n",
    "mu_assumed = np.array([0,0,0])\n",
    "sigma_assumed = np.array([1,1,1])\n",
    "\n",
    "while cnt < N-1:\n",
    "    idx = np.random.random_integers(3)-1\n",
    "    sample = np.random.normal(mu_assumed[idx], sigma_assumed[idx])\n",
    "    q = 1/3. * multivariate_normal.pdf(sample, mu_assumed[idx], sigma_assumed[idx])\n",
    "    p = pi_true[idx] * multivariate_normal.pdf(sample, mu_true[idx], sigma_true[idx])\n",
    "    u = np.random.random_sample()\n",
    "    \n",
    "    if u*M*q < p:\n",
    "        cnt = cnt + 1\n",
    "        obs[cnt] = sample\n",
    "    else:\n",
    "        discarded = discarded + 1"
   ]
  },
  {
   "cell_type": "code",
   "execution_count": 9,
   "metadata": {
    "collapsed": false
   },
   "outputs": [
    {
     "data": {
      "image/png": "[encoded data removed]",
      "text/plain": [
       "<matplotlib.figure.Figure at 0x14536dd8>"
      ]
     },
     "metadata": {},
     "output_type": "display_data"
    }
   ],
   "source": [
    "plt.figure(1, figsize=(15,5))\n",
    "plt.subplot(1,2,1)\n",
    "plt.hist(obs, bins=np.linspace(-10,10,(10-(-10))/0.1))\n",
    "\n",
    "plt.subplot(1,2,2)\n",
    "plt.bar(range(len([cnt, discarded])), np.array([cnt, discarded]))\n",
    "plt.show()"
   ]
  }
 ],
 "metadata": {
  "kernelspec": {
   "display_name": "Python 2",
   "language": "python",
   "name": "python2"
  },
  "language_info": {
   "codemirror_mode": {
    "name": "ipython",
    "version": 2
   },
   "file_extension": ".py",
   "mimetype": "text/x-python",
   "name": "python",
   "nbconvert_exporter": "python",
   "pygments_lexer": "ipython2",
   "version": "2.7.6"
  }
 },
 "nbformat": 4,
 "nbformat_minor": 0
}

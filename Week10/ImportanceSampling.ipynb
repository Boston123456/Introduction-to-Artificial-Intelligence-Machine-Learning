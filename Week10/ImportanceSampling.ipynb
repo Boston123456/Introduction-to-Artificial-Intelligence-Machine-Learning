{
 "cells": [
  {
   "cell_type": "code",
   "execution_count": 42,
   "metadata": {
    "collapsed": true
   },
   "outputs": [],
   "source": [
    "import scipy.io as sio\n",
    "import numpy as np\n",
    "import matplotlib.pyplot as plt\n",
    "from scipy.stats import multivariate_normal\n",
    "\n",
    "%matplotlib inline  "
   ]
  },
  {
   "cell_type": "code",
   "execution_count": 43,
   "metadata": {
    "collapsed": true
   },
   "outputs": [],
   "source": [
    "pi_true = np.array([0.35, 0.45, 0.2])\n",
    "mu_true = np.array([-2,1,5])\n",
    "sigma_true = np.array([0.9, 0.3, .7])\n",
    "\n",
    "N = 30000\n",
    "obs = np.zeros(N)\n",
    "\n",
    "for i in range(N):\n",
    "    z = np.random.random_sample()\n",
    "    idx = 0\n",
    "    tempSum = 0\n",
    "    \n",
    "    for j in range(np.size(pi_true)):\n",
    "        if ((z > tempSum) & (z<=tempSum+pi_true[j])):\n",
    "            idx = j\n",
    "            break\n",
    "        else:\n",
    "            tempSum = tempSum + pi_true[j]\n",
    "    \n",
    "    v_temp = np.random.normal(mu_true[idx], sigma_true[idx], 1)\n",
    "    obs[i] = v_temp;"
   ]
  },
  {
   "cell_type": "code",
   "execution_count": 44,
   "metadata": {
    "collapsed": false
   },
   "outputs": [
    {
     "data": {
      "image/png": "[encoded data removed]",
      "text/plain": [
       "<matplotlib.figure.Figure at 0x3c75a780>"
      ]
     },
     "metadata": {},
     "output_type": "display_data"
    }
   ],
   "source": [
    "plt.figure(1, figsize=(7,5))\n",
    "plt.hist(obs, bins=np.linspace(-10,10,(10-(-10))/0.1))\n",
    "plt.show()"
   ]
  },
  {
   "cell_type": "code",
   "execution_count": 45,
   "metadata": {
    "collapsed": false
   },
   "outputs": [],
   "source": [
    "mu = np.mean(obs)\n",
    "sigma = np.std(obs)\n",
    "trial = 10\n",
    "N = 10000\n",
    "mus = np.zeros(trial)\n",
    "\n",
    "for i in range(trial):\n",
    "    cnt = 0\n",
    "    importance_weight = 0\n",
    "    sumP = 0\n",
    "    sumQ = 0\n",
    "    sumPQ = 0\n",
    "    samples = np.zeros((N,2))\n",
    "    mu_assumed = 0\n",
    "    sigma_assumed = 10\n",
    "    \n",
    "    while cnt < N-1:\n",
    "        idx = np.random.random_integers(3)-1\n",
    "        sample = np.random.normal(mu_assumed,sigma_assumed, 1)\n",
    "        q = multivariate_normal.pdf(sample, mu_assumed, sigma_assumed)\n",
    "        p = pi_true[idx] * multivariate_normal.pdf(sample, mu_true[idx], sigma_true[idx])\n",
    "        importance_weight = importance_weight + p/q + sample;\n",
    "        sumPQ = sumPQ + p/q\n",
    "        cnt = cnt + 1\n",
    "        samples[cnt,0] = sample\n",
    "        samples[cnt,1] = p/q\n",
    "    \n",
    "    mu_importancesampling = importance_weight / sumPQ\n",
    "    mus[i] = mu_importancesampling\n",
    "mu_trials = np.mean(mus)\n",
    "std_trials = np.std(mus)"
   ]
  },
  {
   "cell_type": "code",
   "execution_count": 50,
   "metadata": {
    "collapsed": false
   },
   "outputs": [
    {
     "data": {
      "image/png": "[encoded data removed]",
      "text/plain": [
       "<matplotlib.figure.Figure at 0x56ec6048>"
      ]
     },
     "metadata": {},
     "output_type": "display_data"
    }
   ],
   "source": [
    "plt.figure(1, figsize = (15,10))\n",
    "plt.subplot(2, 2, 1)\n",
    "fig1 = plt.bar(samples[:,0], samples[:,1], width=0.1)\n",
    "plt.xlim([-10, 10])\n",
    "\n",
    "plt.subplot(2, 2, 2)\n",
    "plt.boxplot(mus)\n",
    "\n",
    "cnt = 0\n",
    "mus_filtered = []\n",
    "for i in range(trial):\n",
    "    if (mus[i] <= mu_trials + std_trials) & (mus[i] >= mu_trials-std_trials):\n",
    "        cnt = cnt + 1\n",
    "        mus_filtered.append(mus[i])\n",
    "mus_filtered = np.asarray(mus_filtered)\n",
    "\n",
    "plt.subplot(2, 2, 3)\n",
    "plt.boxplot(mus_filtered)\n",
    "plt.show()"
   ]
  },
  {
   "cell_type": "code",
   "execution_count": 84,
   "metadata": {
    "collapsed": false
   },
   "outputs": [
    {
     "name": "stdout",
     "output_type": "stream",
     "text": [
      "Mu from forward sampling : 0.748.\n",
      "Mu from importance sampling: 1.307.\n",
      "Std from importance sampling: 0.505.\n",
      "Lower bound of confidence interval from importance sampling: 0.994\n",
      "Upper bound of confidence intrval from importance sampling: 1.620\n",
      "Mu-Filtered from imprtance sampling: 1.190.\n",
      "Std-filtered from importance sampling: 0.187.\n",
      "Lower bound of confidence interval from importance sampling-filtered: 1.074.\n",
      "Uppter bound of confidence interval from importance sampling-filtered: 1.306.\n"
     ]
    }
   ],
   "source": [
    "print('Mu from forward sampling : {0:.3f}.'.format(mu))\n",
    "print('Mu from importance sampling: {0:.3f}.'.format(mu_trials))\n",
    "print('Std from importance sampling: {0:.3f}.'.format(std_trials))\n",
    "print('Lower bound of confidence interval from importance sampling: {0:.3f}'.format(mu_trials-1.96*std_trials/np.sqrt(trial)))\n",
    "print('Upper bound of confidence intrval from importance sampling: {0:.3f}'.format(mu_trials+1.96*std_trials/np.sqrt(trial)))\n",
    "\n",
    "print('Mu-Filtered from imprtance sampling: {0:.3f}.'.format(np.mean(mus_filtered)))\n",
    "print('Std-filtered from importance sampling: {0:.3f}.'.format(np.std(mus_filtered)))\n",
    "print('Lower bound of confidence interval from importance sampling-filtered: {0:.3f}.'.format(np.mean(mus_filtered)-1.96*np.std(mus_filtered)/np.sqrt(trial)))\n",
    "print('Uppter bound of confidence interval from importance sampling-filtered: {0:.3f}.'.format(np.mean(mus_filtered)+1.96*np.std(mus_filtered)/np.sqrt(trial)))"
   ]
  }
 ],
 "metadata": {
  "kernelspec": {
   "display_name": "Python 2",
   "language": "python",
   "name": "python2"
  },
  "language_info": {
   "codemirror_mode": {
    "name": "ipython",
    "version": 2
   },
   "file_extension": ".py",
   "mimetype": "text/x-python",
   "name": "python",
   "nbconvert_exporter": "python",
   "pygments_lexer": "ipython2",
   "version": "2.7.6"
  }
 },
 "nbformat": 4,
 "nbformat_minor": 0
}

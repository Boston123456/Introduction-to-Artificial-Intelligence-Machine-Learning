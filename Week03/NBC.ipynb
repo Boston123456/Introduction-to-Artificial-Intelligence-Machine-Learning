{
 "cells": [
  {
   "cell_type": "code",
   "execution_count": 1,
   "metadata": {
    "collapsed": true
   },
   "outputs": [],
   "source": [
    "import scipy.io as sio\n",
    "import numpy as np\n",
    "import matplotlib.pyplot as plt\n",
    "%matplotlib inline  "
   ]
  },
  {
   "cell_type": "code",
   "execution_count": 2,
   "metadata": {
    "collapsed": false
   },
   "outputs": [],
   "source": [
    "# Import DATA Set (.mat file)\n",
    "data = sio.loadmat('sentimentdataset.mat', chars_as_strings=1, matlab_compatible=1)\n",
    "\n",
    "# sentimentdataset.mat file contains 3 matlab variables\n",
    "# bagofword: 198 X 29717 double\n",
    "# sentiment: 198 X 1     double\n",
    "# word:      29717 X 1  cell -> Only use 2000 cases in this class.\n",
    "\n",
    "bagofword = data['bagofword'];\n",
    "sentiment = data['sentiment']; \n",
    "sentiment = sentiment.astype(int);\n",
    "words = data['word'];\n",
    "\n",
    "# Convert MATLAB Cell into python array\n",
    "word = []\n",
    "for n in range(2000):\n",
    "    word = word + [str(''.join(letter)) for letter in words[n][0]]"
   ]
  },
  {
   "cell_type": "code",
   "execution_count": 3,
   "metadata": {
    "collapsed": false
   },
   "outputs": [],
   "source": [
    "cell = 10;\n",
    "replication = 2;\n",
    "numTesting = 50;\n",
    "numWord = 2000;\n",
    "\n",
    "trainingAccuracy = np.zeros((replication, 10));\n",
    "testingAccuracy = np.zeros((replication,10));\n",
    "avgTraining = np.zeros((cell,1));\n",
    "stdTraining = np.zeros((cell,1));\n",
    "avgTesting = np.zeros((cell,1));\n",
    "stdTesting = np.zeros((cell,1));\n",
    "\n",
    "for M in range(1,cell+1):\n",
    "    N = M * 10;\n",
    "    for rep in range(replication):\n",
    "        sample = np.random.permutation(np.arange(198))\n",
    "        \n",
    "        X = bagofword[sample];\n",
    "        Y = sentiment[sample];\n",
    "        \n",
    "        cntXbyY = np.ones((numWord,2))/1000;\n",
    "        \n",
    "        for i in range(numWord):\n",
    "            for j in range(N):\n",
    "                if X[j,i] >= 1:\n",
    "                    cntXbyY[i,Y[j]] = cntXbyY[i,Y[j]] + 1;\n",
    "        \n",
    "        cntY = np.zeros((2,1));\n",
    "        for j in range(N):\n",
    "            if Y[j] == 0:\n",
    "                cntY[0] = cntY[0] + 1;\n",
    "            else:\n",
    "                cntY[1] = cntY[1] + 1;\n",
    "        \n",
    "        probsXbyY = np.zeros((numWord, 2));\n",
    "        for i in range(numWord):\n",
    "            for j in range(2):\n",
    "                probsXbyY[i,j] = cntXbyY[i,j] / float(cntY[j]);\n",
    "                \n",
    "        probsY = np.zeros((2,1));\n",
    "        for j in range(2):\n",
    "            probsY[j] = cntY[j] / float(cntY[0] + cntY[1]);\n",
    "            \n",
    "        probsSentiment = np.zeros((198,2));\n",
    "        for i in range(198):\n",
    "            for k in range(2):\n",
    "                probsSentiment[i,k] = 1;\n",
    "                for j in range(numWord):\n",
    "                    if X[i,j] == 1:\n",
    "                        probsSentiment[i,k] = probsSentiment[i,k] * probsXbyY[j,k];\n",
    "                    else:\n",
    "                        probsSentiment[i,k] = probsSentiment[i,k] * (1 - probsXbyY[j,k]);\n",
    "                probsSentiment[i,k] = probsSentiment[i,k] * probsY[k];\n",
    "        \n",
    "        #logProbsSentiment = np.zeros((198,2));\n",
    "        #for i in range(198):\n",
    "        #    for k in range(2):\n",
    "        #        logProbsSentiment[i,k] = 0;\n",
    "        #        for j in range(numWord):\n",
    "        #            if X[i,j] == 1:\n",
    "        #                logProbsSentiment[i,k] = logProbsSentiment[i,k] + log(probsXbyY[j,k]);\n",
    "        #            else:\n",
    "        #                logProbsSentiment[i,k] = logProbsSentiment[i,k] + log(1 - probsXbyY[j,k]);\n",
    "        #        logProbsSentiment[i,k] = logProbsSentiment[i,k] + log(probsY[k,0]);\n",
    "        \n",
    "        \n",
    "        estSentiment = np.zeros((198,1));\n",
    "        for i in range(198):\n",
    "            if probsSentiment[i,0] > probsSentiment[i,1]:\n",
    "                estSentiment[i] = 0;\n",
    "            else:\n",
    "                estSentiment[i] = 1;\n",
    "        \n",
    "        cntCorrect = 0;\n",
    "        for i in range(N):\n",
    "            if estSentiment[i] == Y[i]:\n",
    "                cntCorrect = cntCorrect + 1;\n",
    "        trainingAccuracy[rep,M-1] = cntCorrect / float(N);\n",
    "        \n",
    "        cntCorrect = 0;\n",
    "        for i  in range(N,N+numTesting+1):\n",
    "            if estSentiment[i] == Y[i]:\n",
    "                cntCorrect = cntCorrect + 1;\n",
    "        testingAccuracy[rep,M-1] = cntCorrect / float(numTesting);\n",
    "        \n",
    "    avgTraining[M-1] = np.mean(trainingAccuracy[:,M-1]);\n",
    "    avgTesting[M-1] = np.mean(testingAccuracy[:,M-1]);\n",
    "    stdTraining[M-1] = np.std(trainingAccuracy[:,M-1]);\n",
    "    stdTesting[M-1] = np.std(testingAccuracy[:,M-1]);"
   ]
  },
  {
   "cell_type": "code",
   "execution_count": 4,
   "metadata": {
    "collapsed": false
   },
   "outputs": [
    {
     "data": {
      "image/png": "[encoded data removed]",
      "text/plain": [
       "<matplotlib.figure.Figure at 0x14b5e550>"
      ]
     },
     "metadata": {},
     "output_type": "display_data"
    }
   ],
   "source": [
    "plt.figure(1, figsize=(7,5))\n",
    "plt.errorbar(np.dot(10,range(1,cell+1)),avgTraining,yerr = stdTraining/np.sqrt(replication), fmt='-o', color='r', label = \"Training\");\n",
    "plt.errorbar(np.dot(10,range(1,cell+1)),avgTesting,yerr = stdTesting/np.sqrt(replication),  fmt='-o', color='b', label = \"Testing\");\n",
    "\n",
    "plt.legend(bbox_to_anchor=(1.05, 1), loc=2, borderaxespad=0.)\n",
    "plt.xlabel('Number of Training Cases', fontsize = 14)\n",
    "plt.ylabel('Classification Accuracy', fontsize = 14)\n",
    "\n",
    "plt.show();"
   ]
  }
 ],
 "metadata": {
  "kernelspec": {
   "display_name": "Python 2",
   "language": "python",
   "name": "python2"
  },
  "language_info": {
   "codemirror_mode": {
    "name": "ipython",
    "version": 2
   },
   "file_extension": ".py",
   "mimetype": "text/x-python",
   "name": "python",
   "nbconvert_exporter": "python",
   "pygments_lexer": "ipython2",
   "version": "2.7.11"
  }
 },
 "nbformat": 4,
 "nbformat_minor": 0
}

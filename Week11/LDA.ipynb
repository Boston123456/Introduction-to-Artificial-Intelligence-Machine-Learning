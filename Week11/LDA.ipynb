{
 "cells": [
  {
   "cell_type": "code",
   "execution_count": 1,
   "metadata": {
    "collapsed": true
   },
   "outputs": [],
   "source": [
    "import scipy.io as sio\n",
    "import numpy as np\n",
    "import matplotlib.pyplot as plt\n",
    "from scipy.stats import multivariate_normal\n",
    "\n",
    "%matplotlib inline  "
   ]
  },
  {
   "cell_type": "code",
   "execution_count": 2,
   "metadata": {
    "collapsed": true
   },
   "outputs": [],
   "source": [
    "T = np.array([['a', 'b', 'a', 'c'], ['c', 'd', 'd', 'e'], ['a', 'c', 'b', 'b']])\n",
    "numDoc = 3\n",
    "numDocLength = 4\n",
    "numTopic = 2\n",
    "\n",
    "V = []\n",
    "for i in range(numDoc):\n",
    "    for j in range(numDocLength):\n",
    "        flag = 1\n",
    "        for v in range(np.size(V)):\n",
    "            v\n",
    "            i\n",
    "            j\n",
    "            if v[v] == T[i,j]:\n",
    "                flag == 0\n",
    "                break\n",
    "        if flag == 1\n",
    "            V.append(T[i,j])"
   ]
  }
 ],
 "metadata": {
  "kernelspec": {
   "display_name": "Python 2",
   "language": "python",
   "name": "python2"
  },
  "language_info": {
   "codemirror_mode": {
    "name": "ipython",
    "version": 2
   },
   "file_extension": ".py",
   "mimetype": "text/x-python",
   "name": "python",
   "nbconvert_exporter": "python",
   "pygments_lexer": "ipython2",
   "version": "2.7.11"
  }
 },
 "nbformat": 4,
 "nbformat_minor": 0
}

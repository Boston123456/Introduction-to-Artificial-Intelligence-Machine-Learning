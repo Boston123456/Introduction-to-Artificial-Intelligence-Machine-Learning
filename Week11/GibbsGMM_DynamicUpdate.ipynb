{
 "cells": [
  {
   "cell_type": "code",
   "execution_count": 1,
   "metadata": {
    "collapsed": true
   },
   "outputs": [],
   "source": [
    "import scipy.io as sio\n",
    "import numpy as np\n",
    "from matplotlib import cm\n",
    "import matplotlib.pyplot as plt\n",
    "from mpl_toolkits.mplot3d import Axes3D\n",
    "from matplotlib.ticker import LinearLocator, FormatStrFormatter\n",
    "from scipy.stats import multivariate_normal\n",
    "\n",
    "%matplotlib inline  "
   ]
  },
  {
   "cell_type": "code",
   "execution_count": 2,
   "metadata": {
    "collapsed": false
   },
   "outputs": [
    {
     "data": {
      "image/png": "[encoded data removed]",
      "text/plain": [
       "<matplotlib.figure.Figure at 0x13d8a438>"
      ]
     },
     "metadata": {},
     "output_type": "display_data"
    }
   ],
   "source": [
    "pi_true = np.array([0.35, 0.45, 0.2]);\n",
    "mu_true = np.array([-1, 3, 1, 5, 3, 7]).reshape((3,2));\n",
    "sigma_true = np.zeros((3,2,2));\n",
    "sigma_true[0,:,:] = np.array([0.9, 0.1, 0.1, 0.9]).reshape(2,2);\n",
    "sigma_true[1,:,:] = np.array([0.3, 0.7, 0.3, 0.7]).reshape(2,2);\n",
    "sigma_true[2,:,:] = np.array([0.7, 0.3, 0.7, 0.3]).reshape(2,2);\n",
    "col = ['r', 'g', 'b', 'k', 'c'];\n",
    "\n",
    "N = 100;\n",
    "v = np.zeros((np.size(pi_true), N, 2));\n",
    "C = np.zeros((np.size(pi_true), 1)).astype(int);\n",
    "obs = np.zeros((N,2));\n",
    "\n",
    "for i in range(N):\n",
    "    z = np.random.uniform(0,1,1)[0];\n",
    "    idx = 0;\n",
    "    sum2 = 0;\n",
    "    \n",
    "    for j in range(np.size(pi_true)):\n",
    "        if (z>=sum2) & (z<=sum2+pi_true[j]):\n",
    "            idx = j;\n",
    "            break;\n",
    "        else:\n",
    "            sum2 = sum2 + pi_true[j];\n",
    "    \n",
    "    v_temp = np.random.multivariate_normal(mu_true[idx,:], sigma_true[idx,:,:],2);\n",
    "    C[idx] = C[idx] + 1;\n",
    "    v[idx, C[idx], 0] = v_temp[0][0];\n",
    "    v[idx, C[idx], 1] = v_temp[1][0];\n",
    "    obs[i,0] = v_temp[0][0];\n",
    "    obs[i,1] = v_temp[1][0];\n",
    "\n",
    "plt.figure(1, figsize = (15, 5));\n",
    "plt.subplot(1, 2, 1)\n",
    "for i in range(np.size(pi_true)):\n",
    "    plt.plot(v[i,np.array(range(C[i])),0], v[i,np.array(range(C[i])),1], \"o\");\n",
    "plt.subplot(1,2,2)\n",
    "plt.plot(obs[:,0], obs[:,1], \"o\");\n",
    "\n",
    "plt.show()"
   ]
  },
  {
   "cell_type": "code",
   "execution_count": 11,
   "metadata": {
    "collapsed": false
   },
   "outputs": [
    {
     "ename": "SyntaxError",
     "evalue": "invalid syntax (<ipython-input-11-f38b1aa375fe>, line 71)",
     "output_type": "error",
     "traceback": [
      "\u001b[1;36m  File \u001b[1;32m\"<ipython-input-11-f38b1aa375fe>\"\u001b[1;36m, line \u001b[1;32m71\u001b[0m\n\u001b[1;33m    sigma[i,l] = squared[i-1,l] - np.dot(np.transpose(mu[i-1, l]), mu[i-1, ;])\u001b[0m\n\u001b[1;37m                                                                           ^\u001b[0m\n\u001b[1;31mSyntaxError\u001b[0m\u001b[1;31m:\u001b[0m invalid syntax\n"
     ]
    }
   ],
   "source": [
    "k = 3\n",
    "itrGibbs = 4\n",
    "showVisualization = np.array([2,4,8,16,32,99])\n",
    "\n",
    "plt.figure(1, figsize = (15,20))\n",
    "#mu = np.zeros((itrGibbs, k), dtype=np.object)\n",
    "#sigma = np.zeros((itrGibbs, k), dtype=np.object)\n",
    "mu = np.zeros((itrGibbs, k, 2))\n",
    "squared = np.zeros((itrGibbs, k, 2, 2))\n",
    "sigma = np.zeros((itrGibbs, k, 2, 2))\n",
    "pi = np.zeros((itrGibbs, k))\n",
    "likelihood = np.zeros((itrGibbs-1, 1))\n",
    "z = np.zeros((N,1)).astype(int)\n",
    "figCount = 1;\n",
    "\n",
    "for j in range(N):\n",
    "    z[j] = np.random.randint(k)\n",
    "\n",
    "count = np.zeros((k,1))\n",
    "\n",
    "for j in range(k):\n",
    "    mu[1,j] = np.zeros((1,2));\n",
    "for j in range(N):\n",
    "    mu[1,z[j]] = mu[1,z[j]] + obs[j,:];\n",
    "    count[z[j]] = count[z[j]] + 1;\n",
    "for l in range(k):\n",
    "    mu[1,l] = mu[1,l] / count[l];\n",
    "    \n",
    "for j in range(k):\n",
    "    sigma[1,j] = np.zeros((2,2))\n",
    "    squared[1,j] = np.zeros((2,2))\n",
    "for j in range(N):\n",
    "    sigma[1,z[j]] = sigma[1,z[j]] + np.dot(np.transpose((obs[j,:]-mu[1,z[j]])), (obs[j,:]-mu[1,z[j]]))\n",
    "    squared[1,z[j]] = squared[1,z[j]] + np.dot(np.transpose(obs[j,:]), obs[j,:])\n",
    "for l in range(k):\n",
    "    sigma[i,l] = sigma[i,l] / count[l];\n",
    "    squared[1,l] = squared[1,l] / count[l]\n",
    "for l in range(k):\n",
    "    pi[i,l] = count[l] / np.sum(count);\n",
    "\n",
    "for i in range(1,itrGibbs):\n",
    "    for j in range(N):\n",
    "        normalize = 0;\n",
    "        probs_z = np.zeros((k,1))\n",
    "        for l in range(k):\n",
    "            probs_z[l] = pi[i-1,l] * multivariate_normal.pdf(obs[j,:], mu[i-1,l], sigma[i-1,l])\n",
    "            normalize = normalize + probs_z[l]\n",
    "        for l in range(k):\n",
    "            probs_z[l] = probs_z[l] / normalize\n",
    "        \n",
    "        newz = drawRandomFromWeights(probs_z)\n",
    "        oldz = z[j]\n",
    "        \n",
    "        # Display part of MATLAB code ommited.\n",
    "        \n",
    "        mu[i-1,oldz] = ( mu[i-1,oldz]*count[oldz]-obs[j,:] ) / (count[oldz] - 1)\n",
    "        mu[i-1,newz] = ( mu[i-1,newz]*count[newz]+obs[j,:] ) / (count[oldz] + 1)\n",
    "        squared[i-1,oldz] = ( squared[i-1, oldz] * count[oldz] - np.dot(np.transpost(obs[j,:]), obs[j,:]) )\n",
    "        squared[i-1,newz] = ( squared[i-1, newz] * count[newz] + np.dot(np.transpost(obs[j,:]), obs[j,:]) )\n",
    "        sigma[i-1, oldz] = squared[i-1, oldz] - np.dot(np.transpose(mu[i-1, oldz]), mu[i-1, oldz])\n",
    "        sigma[i-1, newz] = squared[i-1, newz] - np.dot(np.transpose(mu[i-1, newz]), mu[i-1, newz])\n",
    "        pi[i-1,oldz] = (pi[i-1, oldz] * N - 1) / N\n",
    "        pi[i-1,newz] = (pi[i-1, newz] * N + 1) / N\n",
    "        count[oldz] = count[oldz] - 1\n",
    "        count[newz] = count[newz] + 1\n",
    "        z[j] = newz\n",
    "        \n",
    "    for l in range(k):\n",
    "        mu[i,l] = mu[i-1, l]\n",
    "        squared[i,l] = squared[i-1, l]\n",
    "        sigma[i,l] = squared[i-1,l] - np.dot(np.transpose(mu[i-1, l]), mu[i-1, ;])\n",
    "        pi[i,l] = pi[i-1,l]\n",
    "    \n",
    "    likelihood[i-1] = 0;\n",
    "    for j in range(N):\n",
    "        sum2 = 0;\n",
    "        for l in range(k):\n",
    "            sum2 = sum2 + pi[i,l] * multivariate_normal.pdf(obs[j,:], mu[i,l], sigma[i,l])\n",
    "        likelihood[i-1] = likelihood[i-1] + np.log(sum2);\n",
    "        \n",
    "        flag = 0;\n",
    "    for j in range(np.size(showVisualization)):\n",
    "        if showVisualization[j] == i:\n",
    "            flag = 1\n",
    "            break;\n",
    "    \n",
    "    if flag == 0:\n",
    "        continue;\n",
    "    \n",
    "    plt.subplot(4,2,figCount)\n",
    "    plt.title(' \\niteration = %s\\n'%(i), fontsize=15)\n",
    "    \n",
    "    for j in range(k):\n",
    "        points = np.zeros((i,2));\n",
    "        for l in range(i):\n",
    "            points[l,:] = mu[l,j]\n",
    "        plt.plot(points[:,0], points[:,1], color=col[j])\n",
    "        plt.plot(points[:,0], points[:,1], \"o\", color = col[j])\n",
    "    for j in range(N):\n",
    "        plt.plot(obs[j,0],obs[j,1], \"o\", color = col[z[j]])\n",
    "    figCount = figCount + 1;\n",
    "    \n",
    "plt.subplot(4,2,8)\n",
    "plt.title('LogLikelihood\\n', fontsize = 15)\n",
    "\n",
    "plt.plot(np.array(range(itrGibbs-1)), likelihood[:]);"
   ]
  },
  {
   "cell_type": "code",
   "execution_count": 9,
   "metadata": {
    "collapsed": false
   },
   "outputs": [
    {
     "data": {
      "text/plain": [
       "0"
      ]
     },
     "execution_count": 9,
     "metadata": {},
     "output_type": "execute_result"
    }
   ],
   "source": [
    "%matplotlib qt\n",
    "fig = plt.figure(1, figsize=(15,10))\n",
    "x = np.linspace(np.min(obs[:,0]), np.max(obs[:,0]), (np.max(obs[:,0])-np.min(obs[:,0])/0.1))\n",
    "y = np.linspace(np.min(obs[:,1]), np.max(obs[:,1]), (np.max(obs[:,1])-np.min(obs[:,1])/0.1))\n",
    "[X, Y] = np.meshgrid(x,y)\n",
    "temp = np.column_stack([X.reshape(np.size(X),1), Y.reshape(np.size(Y),1)])\n",
    "\n",
    "for j in range(k):\n",
    "    Z = multivariate_normal.pdf(temp, mu[itrGibbs-1, j], sigma[itrGibbs-1, j])\n",
    "    #Z = np.reshape(Z, np.size(np.reshape(np.size(X),1)))\n",
    "    #Z = Z.reshape(np.size(X.reshape(np.size(X),1)))\n",
    "    Z = Z.reshape(np.size(y), np.size(x))\n",
    "    ax = fig.add_subplot(2, 2, j+1,projection='3d')\n",
    "    surf = ax.plot_surface(X, Y, Z, rstride=1, cstride=1, cmap=cm.coolwarm,linewidth=0, antialiased=True)\n",
    "\n",
    "ax = fig.add_subplot(2, 2, 4,projection='3d')\n",
    "for j in range(k):\n",
    "    Z = multivariate_normal.pdf(temp, mu[itrGibbs-1, j], sigma[itrGibbs-1, j])\n",
    "    Z = Z.reshape(np.size(y), np.size(x))\n",
    "#     surf = ax.plot_surface(X, Y, Z, rstride=1, cstride=1, cmap=cm.coolwarm,linewidth=0, antialiased=True, alpha = 0.7)\n",
    "    surf = ax.plot_wireframe(X, Y, Z, rstride=1, cstride=1)\n",
    "plt.show()"
   ]
  }
 ],
 "metadata": {
  "kernelspec": {
   "display_name": "Python 2",
   "language": "python",
   "name": "python2"
  },
  "language_info": {
   "codemirror_mode": {
    "name": "ipython",
    "version": 2
   },
   "file_extension": ".py",
   "mimetype": "text/x-python",
   "name": "python",
   "nbconvert_exporter": "python",
   "pygments_lexer": "ipython2",
   "version": "2.7.6"
  }
 },
 "nbformat": 4,
 "nbformat_minor": 0
}

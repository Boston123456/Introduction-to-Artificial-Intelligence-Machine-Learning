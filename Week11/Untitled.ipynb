{
 "cells": [
  {
   "cell_type": "code",
   "execution_count": 2,
   "metadata": {
    "collapsed": true
   },
   "outputs": [],
   "source": [
    "import scipy.io as sio\n",
    "import numpy as np\n",
    "import matplotlib.pyplot as plt\n",
    "\n",
    "%matplotlib inline  "
   ]
  },
  {
   "cell_type": "code",
   "execution_count": 21,
   "metadata": {
    "collapsed": false
   },
   "outputs": [
    {
     "data": {
      "image/png": "[encoded data removed]",
      "text/plain": [
       "<matplotlib.figure.Figure at 0xb7c9e8d0>"
      ]
     },
     "metadata": {},
     "output_type": "display_data"
    }
   ],
   "source": [
    "nbins = 50\n",
    "lowBound = -1\n",
    "highBound = 1\n",
    "\n",
    "sd1 = 0.1\n",
    "mu1 = 0;\n",
    "data1 = mu1 + sd1 * np.random.normal(0,1,5000)\n",
    "\n",
    "sd2 = 0.1\n",
    "mu2 = 0;\n",
    "data2 = mu2 + sd2 * np.random.normal(0,1,5000)\n",
    "\n",
    "displayStackedHistogram(data1, data2, nbins, lowBound, highBound)\n",
    "\n",
    "#plt.figure(1, figsize=(7,5))\n",
    "#    \n",
    "#y1 = np.histogram(data1, bins)[0]\n",
    "#y2 = np.histogram(data2, bins)[0]\n",
    "\n",
    "    #Y = np.column_stack((np.transpose(y1), np.transpose(y2)))\n",
    "    #plt.bar(np.arange(nbins), Y)\n",
    "    \n",
    "#ind = np.arange(np.size(bins))\n",
    "#p1 = plt.bar(ind, y1, 0.35, color = 'r')\n",
    "#p2 = plt.bar(ind, y2, 0.35, color = 'y', bottom=y1)\n"
   ]
  },
  {
   "cell_type": "code",
   "execution_count": 20,
   "metadata": {
    "collapsed": true
   },
   "outputs": [],
   "source": [
    "def displayStackedHistogram(data1, data2, nbins, lowBound, highBound):\n",
    "    data = [data1, data2]\n",
    "    bins = np.linspace(lowBound, highBound, nbins)\n",
    "    \n",
    "    plt.hist(data, bins, histtype='bar', stacked=True)\n",
    "    plt.show()"
   ]
  }
 ],
 "metadata": {
  "kernelspec": {
   "display_name": "Python 2",
   "language": "python",
   "name": "python2"
  },
  "language_info": {
   "codemirror_mode": {
    "name": "ipython",
    "version": 2
   },
   "file_extension": ".py",
   "mimetype": "text/x-python",
   "name": "python",
   "nbconvert_exporter": "python",
   "pygments_lexer": "ipython2",
   "version": "2.7.11"
  }
 },
 "nbformat": 4,
 "nbformat_minor": 0
}

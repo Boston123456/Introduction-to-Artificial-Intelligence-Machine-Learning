{
 "cells": [
  {
   "cell_type": "code",
   "execution_count": 1,
   "metadata": {
    "collapsed": false
   },
   "outputs": [],
   "source": [
    "import numpy as np\n",
    "import matplotlib.pyplot as plt\n",
    "import csv\n",
    "\n",
    "%matplotlib inline\n",
    "\n",
    "X = []\n",
    "Y = []\n",
    "\n",
    "f = open('X.csv', 'r')\n",
    "csvReader = csv.reader(f)\n",
    "\n",
    "for row in csvReader:\n",
    "    X.append(row)\n",
    "    \n",
    "f = open('Y.csv', 'r')\n",
    "csvReader = csv.reader(f)\n",
    "\n",
    "for row in csvReader:\n",
    "    Y.append(row)\n",
    "    \n",
    "f.close()\n",
    "\n",
    "X = np.asarray(X, dtype = 'float64')\n",
    "Y = np.asarray(Y, dtype = 'float64')\n",
    "\n",
    "xTemp = X[:, 0:2]\n",
    "\n",
    "theta = np.dot(np.dot(np.linalg.inv(np.dot(np.transpose(xTemp), xTemp)), np.transpose(xTemp)), Y)\n",
    "\n",
    "Y_est = np.dot(xTemp, theta)\n",
    "\n",
    "xTemp = X[:, 0:2]\n",
    "\n",
    "theta = np.dot(np.dot(np.linalg.inv(np.dot(np.transpose(xTemp), xTemp)), np.transpose(xTemp)), Y)\n",
    "\n",
    "Y_est = np.dot(xTemp, theta)\n",
    "\n",
    "m0, c0 = np.linalg.lstsq(xTemp, Y)[0]\n",
    "m1, c1 = np.linalg.lstsq(xTemp, Y_est)[0]\n",
    "\n",
    "newX = np.zeros((X.shape[0], 9))\n",
    "newX[:, 0:2] = X[:, 0:2]\n",
    "for i in range(2, 9):\n",
    "    newX[:, i] = newX[:, 1] * newX[:, i-1]\n",
    "\n",
    "newTheta = np.dot(np.dot(np.linalg.inv(np.dot(np.transpose(newX), newX)), np.transpose(newX)), Y)\n",
    "\n",
    "newY_est = np.dot(newX, newTheta)\n",
    "\n",
    "m2, c2 = np.linalg.lstsq(xTemp, newY_est)[0]\n",
    "\n",
    "plt.figure(1, figsize = (17, 5))\n",
    "\n",
    "ax1 = plt.subplot(1, 3, 1)\n",
    "plt.plot(X[:, 1], Y, 'ro', markeredgecolor = 'none')\n",
    "plt.plot(X[:, 1], m0+c0*X[:, 1], 'r-')\n",
    "plt.plot(X[:, 1], Y_est, 'bo', markeredgecolor = 'none')\n",
    "plt.plot(X[:, 1], m1+c1*X[:, 1], 'b-')\n",
    "\n",
    "ax2 = plt.subplot(1, 3, 2, sharey = ax1)\n",
    "plt.plot(X[:, 1], Y, 'ro', markeredgecolor = 'none')\n",
    "plt.plot(X[:, 1], newY_est, 'go', markeredgecolor = 'none')\n",
    "plt.plot(X[:, 1], m2 + c2*X[:, 1], 'g-')\n",
    "\n",
    "ax3 = plt.subplot(1, 3, 3, sharey = ax2)\n",
    "plt.plot(X[:, 1], Y, 'ro', markeredgecolor = 'none')\n",
    "plt.plot(X[:, 1], Y_est, 'bo', markeredgecolor = 'none')\n",
    "plt.plot(X[:, 1], newY_est, 'go', markeredgecolor = 'none')\n",
    "\n",
    "plt.show()"
   ]
  },
  {
   "cell_type": "code",
   "execution_count": null,
   "metadata": {
    "collapsed": false
   },
   "outputs": [],
   "source": [
    "%matplotlib inline"
   ]
  },
  {
   "cell_type": "code",
   "execution_count": 3,
   "metadata": {
    "collapsed": false
   },
   "outputs": [],
   "source": [
    "X = []\n",
    "Y = []\n",
    "\n",
    "f = open('X.csv', 'r')\n",
    "csvReader = csv.reader(f)\n",
    "\n",
    "for row in csvReader:\n",
    "    X.append(row)\n",
    "    \n",
    "f = open('Y.csv', 'r')\n",
    "csvReader = csv.reader(f)\n",
    "\n",
    "for row in csvReader:\n",
    "    Y.append(row)\n",
    "    \n",
    "f.close()\n",
    "\n",
    "X = np.asarray(X, dtype = 'float64')\n",
    "Y = np.asarray(Y, dtype = 'float64')"
   ]
  },
  {
   "cell_type": "code",
   "execution_count": 4,
   "metadata": {
    "collapsed": false
   },
   "outputs": [],
   "source": [
    "xTemp = X[:, 0:2]\n",
    "\n",
    "theta = np.dot(np.dot(np.linalg.inv(np.dot(np.transpose(xTemp), xTemp)), np.transpose(xTemp)), Y)\n",
    "\n",
    "Y_est = np.dot(xTemp, theta)"
   ]
  },
  {
   "cell_type": "code",
   "execution_count": 5,
   "metadata": {
    "collapsed": true
   },
   "outputs": [],
   "source": [
    "xTemp = X[:, 0:2]\n",
    "\n",
    "theta = np.dot(np.dot(np.linalg.inv(np.dot(np.transpose(xTemp), xTemp)), np.transpose(xTemp)), Y)\n",
    "\n",
    "Y_est = np.dot(xTemp, theta)\n",
    "\n",
    "m0, c0 = np.linalg.lstsq(xTemp, Y)[0]\n",
    "m1, c1 = np.linalg.lstsq(xTemp, Y_est)[0]"
   ]
  },
  {
   "cell_type": "code",
   "execution_count": 6,
   "metadata": {
    "collapsed": true
   },
   "outputs": [],
   "source": [
    "newX = np.zeros((X.shape[0], 9))\n",
    "newX[:, 0:2] = X[:, 0:2]\n",
    "for i in range(2, 9):\n",
    "    newX[:, i] = newX[:, 1] * newX[:, i-1]\n",
    "\n",
    "newTheta = np.dot(np.dot(np.linalg.inv(np.dot(np.transpose(newX), newX)), np.transpose(newX)), Y)\n",
    "\n",
    "newY_est = np.dot(newX, newTheta)\n",
    "\n",
    "m2, c2 = np.linalg.lstsq(xTemp, newY_est)[0]"
   ]
  },
  {
   "cell_type": "code",
   "execution_count": 7,
   "metadata": {
    "collapsed": false,
    "scrolled": false
   },
   "outputs": [
    {
     "data": {
      "image/png": "[encoded data removed]",
      "text/plain": [
       "<matplotlib.figure.Figure at 0x7fdfec181290>"
      ]
     },
     "metadata": {},
     "output_type": "display_data"
    }
   ],
   "source": [
    "plt.figure(1, figsize = (17, 5))\n",
    "\n",
    "ax1 = plt.subplot(1, 3, 1)\n",
    "plt.plot(X[:, 1], Y, 'ro', markeredgecolor = 'none')\n",
    "plt.plot(X[:, 1], m0+c0*X[:, 1], 'r-')\n",
    "plt.plot(X[:, 1], Y_est, 'bo', markeredgecolor = 'none')\n",
    "plt.plot(X[:, 1], m1+c1*X[:, 1], 'b-')\n",
    "\n",
    "ax2 = plt.subplot(1, 3, 2, sharey = ax1)\n",
    "plt.plot(X[:, 1], Y, 'ro', markeredgecolor = 'none')\n",
    "plt.plot(X[:, 1], newY_est, 'go', markeredgecolor = 'none')\n",
    "plt.plot(X[:, 1], m2 + c1*X[:, 1], 'g-')\n",
    "\n",
    "ax3 = plt.subplot(1, 3, 3, sharey = ax2)\n",
    "plt.plot(X[:, 1], Y, 'ro', markeredgecolor = 'none')\n",
    "plt.plot(X[:, 1], Y_est, 'bo', markeredgecolor = 'none')\n",
    "plt.plot(X[:, 1], newY_est, 'go', markeredgecolor = 'none')\n",
    "\n",
    "plt.show()"
   ]
  }
 ],
 "metadata": {
  "kernelspec": {
   "display_name": "Python 2",
   "language": "python",
   "name": "python2"
  },
  "language_info": {
   "codemirror_mode": {
    "name": "ipython",
    "version": 2
   },
   "file_extension": ".py",
   "mimetype": "text/x-python",
   "name": "python",
   "nbconvert_exporter": "python",
   "pygments_lexer": "ipython2",
   "version": "2.7.6"
  }
 },
 "nbformat": 4,
 "nbformat_minor": 0
}

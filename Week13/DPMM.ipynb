{
 "cells": [
  {
   "cell_type": "code",
   "execution_count": 1,
   "metadata": {
    "collapsed": true
   },
   "outputs": [],
   "source": [
    "import numpy as np\n",
    "import numpy.random as rnd\n",
    "from scipy.stats import multivariate_normal\n",
    "import matplotlib.pyplot as plt"
   ]
  },
  {
   "cell_type": "code",
   "execution_count": 2,
   "metadata": {
    "collapsed": true
   },
   "outputs": [],
   "source": [
    "%matplotlib inline"
   ]
  },
  {
   "cell_type": "markdown",
   "metadata": {},
   "source": [
    "## ClusterSynthesis"
   ]
  },
  {
   "cell_type": "code",
   "execution_count": 3,
   "metadata": {
    "collapsed": true
   },
   "outputs": [],
   "source": [
    "pi_true = np.array([0.35, 0.45, 0.2])\n",
    "mu_true = np.array([[-1, 3], [1, 5], [3,7]])\n",
    "sigma_true = np.zeros((3, 2, 2))\n",
    "sigma_true[0] = np.array([[0.9, 0.1], [0.1, 0.9]])/3\n",
    "sigma_true[1] = np.array([[0.6, 0.4], [0.4, 0.6]])/3\n",
    "sigma_true[2] = np.array([[0.7, 0.3], [0.3, 0.7]])/3\n",
    "col = ['red', 'green', 'blue', 'black', 'cyan']                    "
   ]
  },
  {
   "cell_type": "code",
   "execution_count": 4,
   "metadata": {
    "collapsed": false
   },
   "outputs": [],
   "source": [
    "N = 100\n",
    "v = np.zeros((len(pi_true), N, 2))\n",
    "C = np.zeros(len(pi_true), dtype = 'int64')\n",
    "obs = np.zeros((N, 2))"
   ]
  },
  {
   "cell_type": "code",
   "execution_count": 5,
   "metadata": {
    "collapsed": false
   },
   "outputs": [],
   "source": [
    "for i in range(N):\n",
    "    z = np.random.random()\n",
    "    idx = 0\n",
    "    needle = 0\n",
    "    \n",
    "    for j in range(len(pi_true)):\n",
    "        if z >= needle and z <= needle + pi_true[j]:\n",
    "            idx = j\n",
    "            break\n",
    "        else:\n",
    "            needle += pi_true[j]\n",
    "            \n",
    "    obs[i] = np.random.multivariate_normal(mu_true[idx], sigma_true[idx])\n",
    "    C[idx] += 1\n",
    "    v[idx, C[idx]] = obs[i]"
   ]
  },
  {
   "cell_type": "code",
   "execution_count": 6,
   "metadata": {
    "collapsed": false
   },
   "outputs": [
    {
     "data": {
      "image/png": "[encoded data removed]",
      "text/plain": [
       "<matplotlib.figure.Figure at 0x7f12b044e990>"
      ]
     },
     "metadata": {},
     "output_type": "display_data"
    }
   ],
   "source": [
    "plt.figure(1, figsize=(14, 6), dpi=100)\n",
    "plt.subplot(121)\n",
    "plt.title('True assignment\\n', fontsize=15)\n",
    "for i in range(len(pi_true)):\n",
    "    plt.plot(v[i, 1:C[i], 0], v[i, 1:C[i], 1], 'o')\n",
    "    \n",
    "plt.subplot(122)\n",
    "plt.title('Observation\\n', fontsize=15)\n",
    "plt.plot(obs[:, 0], obs[:, 1], 'ko')\n",
    "\n",
    "plt.show()"
   ]
  },
  {
   "cell_type": "markdown",
   "metadata": {},
   "source": [
    "## DPMM"
   ]
  },
  {
   "cell_type": "code",
   "execution_count": 7,
   "metadata": {
    "collapsed": true
   },
   "outputs": [],
   "source": [
    "numItr = 100\n",
    "alpha = 0.01\n",
    "initK = 10\n",
    "priorCov = 0.1\n",
    "\n",
    "minX = np.min(obs[:,0])\n",
    "maxX = np.max(obs[:,0])\n",
    "minY = np.min(obs[:,1])\n",
    "maxY = np.max(obs[:,1])"
   ]
  },
  {
   "cell_type": "code",
   "execution_count": null,
   "metadata": {
    "collapsed": false
   },
   "outputs": [],
   "source": [
    "assignment = rnd.randint(initK, size = N)\n",
    "clusterIdxs = np.unique(assignment)\n",
    "\n",
    "clusterMean = np.zeros((len(clusterIdxs),2))\n",
    "clusterCov = np.zeros((len(clusterIdxs), 2, 2))\n",
    "clusterNum = np.zeros(len(clusterIdxs))\n",
    "\n",
    "for k in clusterIdxs:\n",
    "    clusterMean[k] = np.mean(obs[np.where(assignment == k)], axis = 0)\n",
    "    clusterCov[k] = np.cov(obs[np.where(assignment == k)].T)\n",
    "    clusterNum[k] = len(np.where(assignment == k)[0])\n",
    "    \n",
    "print(np.unique(assignment))\n",
    "print(clusterNum)"
   ]
  },
  {
   "cell_type": "code",
   "execution_count": 70,
   "metadata": {
    "collapsed": false
   },
   "outputs": [
    {
     "ename": "NameError",
     "evalue": "name 'NaN' is not defined",
     "output_type": "error",
     "traceback": [
      "\u001b[1;31m---------------------------------------------------------------------------\u001b[0m",
      "\u001b[1;31mNameError\u001b[0m                                 Traceback (most recent call last)",
      "\u001b[1;32m<ipython-input-70-ca09a3026509>\u001b[0m in \u001b[0;36m<module>\u001b[1;34m()\u001b[0m\n\u001b[1;32m----> 1\u001b[1;33m \u001b[1;32mprint\u001b[0m\u001b[1;33m(\u001b[0m\u001b[0mNaN\u001b[0m\u001b[1;33m)\u001b[0m\u001b[1;33m\u001b[0m\u001b[0m\n\u001b[0m\u001b[0;32m      2\u001b[0m \u001b[1;32mprint\u001b[0m\u001b[1;33m(\u001b[0m\u001b[0mnp\u001b[0m\u001b[1;33m.\u001b[0m\u001b[0mnan_to_num\u001b[0m\u001b[1;33m(\u001b[0m\u001b[1;36m1\u001b[0m\u001b[1;33m/\u001b[0m\u001b[1;36m0\u001b[0m\u001b[1;33m)\u001b[0m\u001b[1;33m)\u001b[0m\u001b[1;33m\u001b[0m\u001b[0m\n",
      "\u001b[1;31mNameError\u001b[0m: name 'NaN' is not defined"
     ]
    }
   ],
   "source": [
    "print(NaN)\n",
    "print(np.nan_to_num(1/0))"
   ]
  },
  {
   "cell_type": "code",
   "execution_count": 144,
   "metadata": {
    "collapsed": false
   },
   "outputs": [
    {
     "data": {
      "text/plain": [
       "array(9.833014545715253)"
      ]
     },
     "execution_count": 144,
     "metadata": {},
     "output_type": "execute_result"
    }
   ],
   "source": [
    "np.cov(np.asarray([[ 0.6142681, 5.04890778]]))\n",
    "\n"
   ]
  },
  {
   "cell_type": "code",
   "execution_count": 147,
   "metadata": {
    "collapsed": false,
    "scrolled": false
   },
   "outputs": [
    {
     "name": "stdout",
     "output_type": "stream",
     "text": [
      "itr : 0\n",
      "10\n",
      "\n"
     ]
    },
    {
     "name": "stderr",
     "output_type": "stream",
     "text": [
      "/usr/local/lib/python2.7/dist-packages/ipykernel/__main__.py:102: RuntimeWarning: divide by zero encountered in divide\n",
      "/usr/local/lib/python2.7/dist-packages/ipykernel/__main__.py:102: RuntimeWarning: invalid value encountered in divide\n",
      "/usr/local/lib/python2.7/dist-packages/ipykernel/__main__.py:46: RuntimeWarning: divide by zero encountered in divide\n",
      "/usr/local/lib/python2.7/dist-packages/ipykernel/__main__.py:46: RuntimeWarning: invalid value encountered in divide\n",
      "/usr/local/lib/python2.7/dist-packages/ipykernel/__main__.py:44: RuntimeWarning: divide by zero encountered in double_scalars\n",
      "/usr/local/lib/python2.7/dist-packages/ipykernel/__main__.py:44: RuntimeWarning: invalid value encountered in multiply\n",
      "/usr/local/lib/python2.7/dist-packages/ipykernel/__main__.py:100: RuntimeWarning: divide by zero encountered in double_scalars\n",
      "/usr/local/lib/python2.7/dist-packages/ipykernel/__main__.py:100: RuntimeWarning: invalid value encountered in multiply\n"
     ]
    },
    {
     "name": "stdout",
     "output_type": "stream",
     "text": [
      "itr : 1\n",
      "24\n",
      "\n",
      "10\n",
      "[]\n"
     ]
    },
    {
     "ename": "IndexError",
     "evalue": "index 25 is out of bounds for axis 0 with size 25",
     "output_type": "error",
     "traceback": [
      "\u001b[1;31m---------------------------------------------------------------------------\u001b[0m",
      "\u001b[1;31mIndexError\u001b[0m                                Traceback (most recent call last)",
      "\u001b[1;32m<ipython-input-147-c444a7d19462>\u001b[0m in \u001b[0;36m<module>\u001b[1;34m()\u001b[0m\n\u001b[0;32m     65\u001b[0m         \u001b[1;32mfor\u001b[0m \u001b[0mk\u001b[0m \u001b[1;32min\u001b[0m \u001b[0mrange\u001b[0m\u001b[1;33m(\u001b[0m\u001b[0mlen\u001b[0m\u001b[1;33m(\u001b[0m\u001b[0midxClusters\u001b[0m\u001b[1;33m)\u001b[0m\u001b[1;33m)\u001b[0m\u001b[1;33m:\u001b[0m\u001b[1;33m\u001b[0m\u001b[0m\n\u001b[0;32m     66\u001b[0m             \u001b[0midxCluster\u001b[0m \u001b[1;33m=\u001b[0m \u001b[0midxClusters\u001b[0m\u001b[1;33m[\u001b[0m\u001b[0mk\u001b[0m\u001b[1;33m]\u001b[0m\u001b[1;33m\u001b[0m\u001b[0m\n\u001b[1;32m---> 67\u001b[1;33m             \u001b[0mprobAssignment\u001b[0m\u001b[1;33m[\u001b[0m\u001b[0mk\u001b[0m\u001b[1;33m]\u001b[0m \u001b[1;33m=\u001b[0m \u001b[0mclusterNum\u001b[0m\u001b[1;33m[\u001b[0m\u001b[0midxCluster\u001b[0m\u001b[1;33m]\u001b[0m \u001b[1;33m/\u001b[0m \u001b[1;33m(\u001b[0m\u001b[0mN\u001b[0m \u001b[1;33m+\u001b[0m \u001b[0malpha\u001b[0m \u001b[1;33m-\u001b[0m \u001b[1;36m1\u001b[0m\u001b[1;33m)\u001b[0m\u001b[1;33m\u001b[0m\u001b[0m\n\u001b[0m\u001b[0;32m     68\u001b[0m             probLikelihood[k] = multivariate_normal.pdf(obs[j,:], mean = clusterMean[idxCluster], \n\u001b[0;32m     69\u001b[0m                                                         cov = clusterCov[idxCluster], allow_singular = True)\n",
      "\u001b[1;31mIndexError\u001b[0m: index 25 is out of bounds for axis 0 with size 25"
     ]
    }
   ],
   "source": [
    "assignment = rnd.randint(initK, size = N)\n",
    "clusterIdxs = np.unique(assignment)\n",
    "\n",
    "clusterMean = np.zeros((len(clusterIdxs),2))\n",
    "clusterCov = np.zeros((len(clusterIdxs), 2, 2))\n",
    "clusterNum = np.zeros(len(clusterIdxs))\n",
    "\n",
    "for k in range(len(clusterIdxs)):\n",
    "    clusterMean[k] = np.mean(obs[np.where(assignment == k)], axis = 0)\n",
    "    clusterCov[k] = np.cov(obs[np.where(assignment == k)].T)\n",
    "    clusterNum[k] = len(np.where(assignment == k)[0])\n",
    "    \n",
    "numItr = 5\n",
    "\n",
    "for i in range(numItr):\n",
    "    \n",
    "    \n",
    "    print('itr : %s'%(i))\n",
    "    print(len(np.unique(assignment)))\n",
    "#     print(clusterNum)\n",
    "    print('')\n",
    "    \n",
    "    for j in range(N):\n",
    "        \n",
    "        idxPrevCluster = assignment[j]\n",
    "        \n",
    "        assignment[j] = -1\n",
    "        \n",
    "        if clusterNum[idxPrevCluster] == 1:\n",
    "            \n",
    "            numClusterCurrent = np.max(assignment)\n",
    "            \n",
    "            for k in range(idxPrevCluster, numClusterCurrent):\n",
    "                \n",
    "                clusterMean[k] = clusterMean[k+1]\n",
    "                clusterCov[k] = clusterCov[k+1]\n",
    "                clusterNum[k] = clusterNum[k+1]\n",
    "                assignment[np.where(assignment == k+1)] = k    \n",
    "                \n",
    "        else:\n",
    "            \n",
    "            clusterMean[idxPrevCluster] = np.mean(obs[np.where(assignment == idxPrevCluster)], axis = 0)\n",
    "            if len(obs[np.where(assignment == idxPrevCluster)]) == 1:\n",
    "                clusterCov[idxPrevCluster] = (priorCov / clusterNum[idxPrevCluster] + np.cov(obs[np.where(assignment == idxPrevCluster)]))*np.eye(2)\n",
    "            else:                \n",
    "                clusterCov[idxPrevCluster] = np.cov(obs[np.where(assignment == idxPrevCluster)].T) + np.eye(2) * priorCov / clusterNum[idxPrevCluster]\n",
    "            \n",
    "            clusterNum[idxPrevCluster] = len(np.where(assignment == idxPrevCluster)[0])\n",
    "            \n",
    "            if np.isnan(clusterCov[idxPrevCluster][0,0]):\n",
    "                print(idxPrevCluster)\n",
    "                print(obs[np.where(assignment == idxPrevCluster)])\n",
    "    \n",
    "        \n",
    "        idxClusters = np.unique(assignment)\n",
    "        idxClusters = idxClusters[np.where(idxClusters != -1)]\n",
    "        numCluster = len(idxClusters)\n",
    "        \n",
    "        probAssignment = np.zeros(numCluster)\n",
    "        probLikelihood = np.zeros(numCluster)\n",
    "        probPosterior = np.zeros(numCluster+1)\n",
    "        \n",
    "        clusterCov = np.nan_to_num(clusterCov)\n",
    "\n",
    "        for k in range(len(idxClusters)):\n",
    "            idxCluster = idxClusters[k]           \n",
    "            probAssignment[k] = clusterNum[idxCluster] / (N + alpha - 1)\n",
    "            probLikelihood[k] = multivariate_normal.pdf(obs[j,:], mean = clusterMean[idxCluster], \n",
    "                                                        cov = clusterCov[idxCluster], allow_singular = True)\n",
    "            probPosterior[k] = probAssignment[k] * probLikelihood[k]\n",
    "\n",
    "        probPosterior[k + 1] = alpha / (N + alpha - 1)\n",
    "        \n",
    "        assignment[j] = rnd.choice(numCluster+1, 1, True, probPosterior / np.sum(probPosterior))[0]\n",
    "        \n",
    "#         print('probAssign : %s'%(probAssignment))\n",
    "#         print('')    \n",
    "#         print('probLike : %s'%(probLikelihood))        \n",
    "#         print('')    \n",
    "#         print('probPost : %s'%(probPosterior/np.sum(probPosterior)))\n",
    "        \n",
    "#         for k, pP in enumerate(probPosterior):\n",
    "#             if pP / np.sum(probPosterior) < 1.0e-300:\n",
    "#                 print(k)\n",
    "#                 print('mean : %s'%(clusterMean[k]))\n",
    "#                 print('cov : %s'%(clusterCov[k]))\n",
    "#                 print('')\n",
    "#         print('%s : %s -> %s'%(clusterNum, idxPrevCluster, assignment[j]))\n",
    "#         print('')\n",
    "        \n",
    "        clusterIdxs = np.unique(assignment)\n",
    "        \n",
    "        clusterMean = np.zeros((len(clusterIdxs),2))\n",
    "        clusterCov = np.zeros((len(clusterIdxs), 2, 2))\n",
    "        clusterNum = np.zeros(len(clusterIdxs))\n",
    "        \n",
    "        for k in range(len(clusterIdxs)):\n",
    "            clusterMean[idxPrevCluster] = np.mean(obs[np.where(assignment == idxPrevCluster)], axis = 0)\n",
    "            if len(obs[np.where(assignment == idxPrevCluster)]) == 1:\n",
    "                clusterCov[idxPrevCluster] = (priorCov / clusterNum[idxPrevCluster] + np.cov(obs[np.where(assignment == idxPrevCluster)]))*np.eye(2)\n",
    "            else:                \n",
    "                clusterCov[idxPrevCluster] = np.cov(obs[np.where(assignment == idxPrevCluster)].T) + np.eye(2) * priorCov / clusterNum[idxPrevCluster]\n",
    "            \n",
    "            clusterNum[idxPrevCluster] = len(np.where(assignment == idxPrevCluster)[0])\n",
    "    "
   ]
  },
  {
   "cell_type": "code",
   "execution_count": 104,
   "metadata": {
    "collapsed": false
   },
   "outputs": [
    {
     "name": "stdout",
     "output_type": "stream",
     "text": [
      "True\n"
     ]
    }
   ],
   "source": [
    "a = np.asarray([[np.inf, np.inf], [np.inf, np.inf]])\n",
    "\n",
    "print(np.isnan(np.nan))"
   ]
  },
  {
   "cell_type": "code",
   "execution_count": 28,
   "metadata": {
    "collapsed": false
   },
   "outputs": [
    {
     "name": "stdout",
     "output_type": "stream",
     "text": [
      "[  6.41464370e-001   1.13581371e-309   1.13581371e-309   1.13581371e-309\n",
      "   1.13581371e-309   1.13581371e-309   1.13581371e-309   1.13581371e-309\n",
      "   1.70372056e-309   1.13581371e-309   6.81488225e-309   2.04446468e-308\n",
      "   3.52120986e-001   6.41464370e-003]\n",
      "12\n"
     ]
    }
   ],
   "source": [
    "print(probPosterior/np.sum(probPosterior))\n",
    "print(rnd.choice(numCluster+1, 1, True, probPosterior/np.sum(probPosterior))[0])"
   ]
  },
  {
   "cell_type": "code",
   "execution_count": null,
   "metadata": {
    "collapsed": false
   },
   "outputs": [],
   "source": [
    "\n",
    "        \n",
    "            \n",
    "        probPosterior[k + 1] = alpha/(N + alpha - 1) * 1.0\n",
    "        \n",
    "        assignment[j] = rnd.choice(numCluster+1, 1, true, probPosterior)\n",
    "        \n",
    "        clusterIdxs = np.unique(assignment)\n",
    "        \n",
    "        for k in range(clusterIdxs):\n",
    "            clusterMean[k] = np.mean(obs[np.where(assignment == k)])\n",
    "            clusterCov[k] = np.cov(obs[np.where(assignment == k)].T)\n",
    "            clusterNum[k] = len(obs[np.where(assignment == k)])\n",
    "            \n",
    "%whos"
   ]
  }
 ],
 "metadata": {
  "kernelspec": {
   "display_name": "Python 2",
   "language": "python",
   "name": "python2"
  },
  "language_info": {
   "codemirror_mode": {
    "name": "ipython",
    "version": 2
   },
   "file_extension": ".py",
   "mimetype": "text/x-python",
   "name": "python",
   "nbconvert_exporter": "python",
   "pygments_lexer": "ipython2",
   "version": "2.7.6"
  }
 },
 "nbformat": 4,
 "nbformat_minor": 0
}
